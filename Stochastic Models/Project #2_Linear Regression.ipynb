{
 "cells": [
  {
   "cell_type": "raw",
   "metadata": {
    "collapsed": false
   },
   "source": [
    "Abstract:\n",
    "    \n",
    "Linear Regression is a stochastic model in which we try to establish a relationship between the independent and dependent variable. For example, if the independent variable and the dependent variable increase at the same time, we can say that there is a positive relationship. Linear Regression take this idea by trying to establish a line that best fits the relationship between these variables with a Regression Line that takes the form:\n"
   ]
  },
  {
   "cell_type": "markdown",
   "metadata": {
    "collapsed": false
   },
   "source": [
    "$$X(t) = a + bt + Et$$"
   ]
  },
  {
   "cell_type": "raw",
   "metadata": {
    "collapsed": false
   },
   "source": [
    "This line is used to predict the expected value of the independent variable. Since this process is not foolproof. We must account for some error in our model. This is what the Et is there to represent. The a represent some intercept along the y axis, while the coefficient b represents what we are going to multiply our independent variable by to to get our prediction. We can measure the goodness of our fit to the regression line by measuring the distance between our y-value and the Regression Line.\n",
    "\n",
    "Ultimately we can test the how well the model works by testing the summation of the variance of our the regression line minus the mean over our y values minus the mean."
   ]
  },
  {
   "cell_type": "markdown",
   "metadata": {
    "collapsed": false
   },
   "source": [
    "$$R^2=\\frac{\\sum_{i=1}^{n}(\\hat{y} - \\bar{y})^2}{\\sum_{i=1}^{n}(y - \\bar{y})^2}$$"
   ]
  },
  {
   "cell_type": "raw",
   "metadata": {
    "collapsed": false
   },
   "source": [
    "We are going to use this model to try to see if there Population Density in the 10 poorest Asian countries is a good indicator for Per Capita Income"
   ]
  },
  {
   "cell_type": "markdown",
   "metadata": {
    "collapsed": false
   },
   "source": [
    "### Project 2"
   ]
  },
  {
   "cell_type": "code",
   "execution_count": 49,
   "metadata": {
    "collapsed": false
   },
   "outputs": [
   ],
   "source": [
    "import numpy as np\n",
    "import matplotlib.pyplot as plt\n",
    "from sklearn.linear_model import LinearRegression"
   ]
  },
  {
   "cell_type": "markdown",
   "metadata": {
    "collapsed": false
   },
   "source": [
    "##### Question 1"
   ]
  },
  {
   "cell_type": "code",
   "execution_count": 54,
   "metadata": {
    "collapsed": false
   },
   "outputs": [
   ],
   "source": [
    "density = np.array([45,71,76,101,139,284,290,458,1740])\n",
    "income = np.array([325,172,142,117,171,267,168,188,122])"
   ]
  },
  {
   "cell_type": "code",
   "execution_count": 55,
   "metadata": {
    "collapsed": false
   },
   "outputs": [
   ],
   "source": [
    "linearModel = LinearRegression()\n",
    "reg = linearModel.fit(density.reshape(-1,1),income)"
   ]
  },
  {
   "cell_type": "code",
   "execution_count": 56,
   "metadata": {
    "collapsed": false
   },
   "outputs": [
    {
     "data": {
      "text/plain": [
       "[<matplotlib.lines.Line2D at 0x7f2ad8adf710>]"
      ]
     },
     "execution_count": 56,
     "metadata": {
     },
     "output_type": "execute_result"
    },
    {
     "data": {
      "image/png": "[encoded data removed]",
      "text/plain": [
       "<Figure size 432x288 with 1 Axes>"
      ]
     },
     "execution_count": 56,
     "metadata": {
      "image/png": {
       "height": 248,
       "width": 375
      }
     },
     "output_type": "execute_result"
    }
   ],
   "source": [
    "plt.scatter(density,income)\n",
    "plt.plot(density,reg.predict(density.reshape(-1,1)),color='red')"
   ]
  },
  {
   "cell_type": "code",
   "execution_count": 57,
   "metadata": {
    "collapsed": false
   },
   "outputs": [
    {
     "data": {
      "text/plain": [
       "array([-0.04300826])"
      ]
     },
     "execution_count": 57,
     "metadata": {
     },
     "output_type": "execute_result"
    }
   ],
   "source": [
    "reg.coef_"
   ]
  },
  {
   "cell_type": "code",
   "execution_count": 58,
   "metadata": {
    "collapsed": false
   },
   "outputs": [
    {
     "data": {
      "text/plain": [
       "201.08871681053148"
      ]
     },
     "execution_count": 58,
     "metadata": {
     },
     "output_type": "execute_result"
    }
   ],
   "source": [
    "reg.intercept_"
   ]
  },
  {
   "cell_type": "markdown",
   "metadata": {
    "collapsed": false
   },
   "source": [
    "Our model suggest:<br/>\n",
    "$$Income = 201.09 -0.043*Density$$"
   ]
  },
  {
   "cell_type": "markdown",
   "metadata": {
    "collapsed": false
   },
   "source": [
    "##### Question 2"
   ]
  },
  {
   "cell_type": "code",
   "execution_count": 59,
   "metadata": {
    "collapsed": false
   },
   "outputs": [
    {
     "data": {
      "text/plain": [
       "0.1138714094308172"
      ]
     },
     "execution_count": 59,
     "metadata": {
     },
     "output_type": "execute_result"
    }
   ],
   "source": [
    "reg.score(density.reshape(-1,1),income)"
   ]
  },
  {
   "cell_type": "markdown",
   "metadata": {
    "collapsed": false
   },
   "source": [
    "Since our coefficient is close to zero and our model only accounts for 11 percent of the random fluctuations in the data<br/>, we can say that Population Density is not a good predictor of Per Capita Income "
   ]
  },
  {
   "cell_type": "markdown",
   "metadata": {
    "collapsed": false
   },
   "source": [
    "The above computations suggest that the model accounts for about 11% of the total variation in the Income making the R^2 score = 0.1138"
   ]
  },
  {
   "cell_type": "markdown",
   "metadata": {
    "collapsed": false
   },
   "source": [
    "##### Question 3"
   ]
  },
  {
   "cell_type": "code",
   "execution_count": 61,
   "metadata": {
    "collapsed": false
   },
   "outputs": [
   ],
   "source": [
    "def income(n):\n",
    "    return 201.09 - 0.043*n\n",
    "density = [45,71,76,101,139,284,290,458,1740]"
   ]
  },
  {
   "cell_type": "code",
   "execution_count": 71,
   "metadata": {
    "collapsed": false
   },
   "outputs": [
    {
     "name": "stdout",
     "output_type": "stream",
     "text": [
      "199.16    199.64\n",
      "198.04    198.8\n",
      "197.82    198.64\n",
      "196.75    197.83\n",
      "195.11    196.61\n",
      "188.88    191.93\n",
      "188.62    191.74\n",
      "181.4    186.32\n",
      "126.27    144.98\n"
     ]
    }
   ],
   "source": [
    "for i in range(len(density)):\n",
    "    print(str(round(income(density[i]),2)) + \"    \" + str(round(income(density[i]*.75),2)))"
   ]
  },
  {
   "cell_type": "code",
   "execution_count": 72,
   "metadata": {
    "collapsed": false
   },
   "outputs": [
   ],
   "source": [
    "a = np.array([199.16,198.04,197.82,196.75,195.11,188.88,188.62,181.40,126.27])\n",
    "b = np.array([199.64,198.80,198.64,197.83,196.61,191.93,191.74,186.32,144.98])"
   ]
  },
  {
   "cell_type": "code",
   "execution_count": 82,
   "metadata": {
    "collapsed": false
   },
   "outputs": [
    {
     "data": {
      "text/plain": [
       "-3.826666666666668"
      ]
     },
     "execution_count": 82,
     "metadata": {
     },
     "output_type": "execute_result"
    }
   ],
   "source": [
    "sum(a - b)/len(a)"
   ]
  },
  {
   "cell_type": "markdown",
   "metadata": {
    "collapsed": false
   },
   "source": [
    "We see that for this set of data the average change in the income with a reduction of 25 pecent of density is:<br/>\n",
    "-3.826<br/>\n",
    "This means that we should expect the income per capita of the country that reduces their density by 25 pecent to go by 3.826. This shows that there is negative relationship between the population density and income"
   ]
  }
 ],
 "metadata": {
  "kernelspec": {
   "display_name": "Python 3 (system-wide)",
   "language": "python",
   "metadata": {
    "cocalc": {
     "description": "Python 3 programming language",
     "priority": 100,
     "url": "https://www.python.org/"
    }
   },
   "name": "python3"
  },
  "language_info": {
   "codemirror_mode": {
    "name": "ipython",
    "version": 3
   },
   "file_extension": ".py",
   "mimetype": "text/x-python",
   "name": "python",
   "nbconvert_exporter": "python",
   "pygments_lexer": "ipython3",
   "version": "3.6.9"
  }
 },
 "nbformat": 4,
 "nbformat_minor": 0
}