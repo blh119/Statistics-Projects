{
 "cells": [
  {
   "cell_type": "markdown",
   "metadata": {
    "collapsed": false
   },
   "source": [
    "Brian Holliday<br/>\n",
    "Professor Thiel<br/>\n",
    "Stochastic Models<br/>\n",
    "10 December 2019<br/>\n",
    "\n",
    "Project #3\n",
    "\n",
    "Abstract:<br/>\n",
    "\n",
    "This project provides a simulation for the childrens board game shoots and ladders on a 5X5 square. In this game shoots and ladders connect to points on the board from which player can transition. If a player lands on a ladder they will climb up to the other end point bringing them closer to the end point. If a player lands on a shoot they will slide down to other end point of the shoot.<br/>\n",
    "\n",
    "The first part of the code is too show what the potential game board looks. This game board is 5X5 and runs from 1 - 25. Next, we use the four function to creates four lists that will have the set of the points for our 2 chuts and 2 ladders. We start with an empty list. The function will generate ten random numbers between 1 - 13 and will only add it to the list if the generated number is not in the list. We only use the first four elements in the list. For two of the numbers, we will return the number and the same number plus ten for a big chut/ladder. For the other two, we will return the number and the number plus 5 for the small chut/ladder.<br/>\n",
    "\n",
    "In the function SandL(), we call on the four() function to get our chuts and ladders. A six sided dice is rolled and the player will move that value on the board. If the player lands at the bottom of a ladder then they will automatically we transported to the top of the ladder. If the player lands at the top chut they will be transported to the bottom of the chut.<br/> \n",
    "\n",
    "We use a Monte Carlo method to find the average number of turns to finish this board. We do this by returning the turns in the SandL() function. We get that it is about an average of 12 turns to finish the game. This is futher shown by the histogram. We see that most of the finishes happen between 5 and 20 rolls. "
   ]
  },
  {
   "cell_type": "code",
   "execution_count": 87,
   "metadata": {
    "collapsed": false
   },
   "outputs": [
   ],
   "source": [
    "import numpy as np\n",
    "import matplotlib.pyplot as plt\n",
    "import random"
   ]
  },
  {
   "cell_type": "markdown",
   "metadata": {
    "collapsed": false
   },
   "source": [
    "Game Board"
   ]
  },
  {
   "cell_type": "code",
   "execution_count": 88,
   "metadata": {
    "collapsed": false
   },
   "outputs": [
    {
     "data": {
      "text/plain": [
       "array([[21., 22., 23., 24., 25.],\n",
       "       [20., 19., 18., 17., 16.],\n",
       "       [11., 12., 13., 14., 15.],\n",
       "       [10.,  9.,  8.,  7.,  6.],\n",
       "       [ 1.,  2.,  3.,  4.,  5.]])"
      ]
     },
     "execution_count": 88,
     "metadata": {
     },
     "output_type": "execute_result"
    }
   ],
   "source": [
    "num = 25\n",
    "gameboard = np.zeros(25)\n",
    "for i in range(len(gameboard)):\n",
    "    gameboard[i] = num\n",
    "    num = num - 1\n",
    "gameboard = gameboard.reshape(5,5)\n",
    "gameboard[4] = gameboard[4][::-1]\n",
    "gameboard[2] = gameboard[2][::-1]\n",
    "gameboard[0] = gameboard[0][::-1]\n",
    "gameboard"
   ]
  },
  {
   "cell_type": "code",
   "execution_count": 89,
   "metadata": {
    "collapsed": false
   },
   "outputs": [
   ],
   "source": [
    "def four():\n",
    "    list = []\n",
    "    for i in range(10):\n",
    "        r = random.randint(1,14)\n",
    "        if r not in list:#To make sure the chuts and ladders are not same points\n",
    "            list.append(r)\n",
    "    list = list[0:4]\n",
    "    #+5 are little chuts/ladders, +10 are big chuts/ladders\n",
    "    return [list[0],list[0] + 5], [list[1],list[1] + 10], [list[2],list[2] + 5], [list[3], list[3] + 10]"
   ]
  },
  {
   "cell_type": "code",
   "execution_count": 90,
   "metadata": {
    "collapsed": false
   },
   "outputs": [
   ],
   "source": [
    "def SandL():\n",
    "    chut1,chut2,ladder1,ladder2 = four() #Function to get random chuts and ladders\n",
    "    P = []\n",
    "    position = 0\n",
    "    turns = 0\n",
    "    for i in range(10000):\n",
    "        turns = turns + 1\n",
    "        position = position + np.random.randint(1,7)\n",
    "        if position == chut1[1]:\n",
    "            position = chut1[0]\n",
    "        if position == chut2[1]:\n",
    "            position = chut2[0]\n",
    "        if position == ladder1[0]:\n",
    "            position = ladder1[1]\n",
    "        if position == ladder2[0]:\n",
    "            position = ladder2[1]\n",
    "        if position > 25:\n",
    "            position = P[len(P) - 1]\n",
    "        P.append(position)\n",
    "        if position == 25:\n",
    "            return turns"
   ]
  },
  {
   "cell_type": "code",
   "execution_count": 91,
   "metadata": {
    "collapsed": false
   },
   "outputs": [
    {
     "data": {
      "text/plain": [
       "7"
      ]
     },
     "execution_count": 91,
     "metadata": {
     },
     "output_type": "execute_result"
    }
   ],
   "source": [
    "SandL()"
   ]
  },
  {
   "cell_type": "code",
   "execution_count": 94,
   "metadata": {
    "collapsed": false
   },
   "outputs": [
   ],
   "source": [
    "a = [SandL() for i in range(10000)]"
   ]
  },
  {
   "cell_type": "code",
   "execution_count": 95,
   "metadata": {
    "collapsed": false
   },
   "outputs": [
    {
     "data": {
      "text/plain": [
       "12.2711"
      ]
     },
     "execution_count": 95,
     "metadata": {
     },
     "output_type": "execute_result"
    }
   ],
   "source": [
    "sum(a)/10000"
   ]
  },
  {
   "cell_type": "markdown",
   "metadata": {
    "collapsed": false
   },
   "source": [
    "Average of about 12 turns to finsh the game"
   ]
  },
  {
   "cell_type": "code",
   "execution_count": 96,
   "metadata": {
    "collapsed": false
   },
   "outputs": [
    {
     "data": {
      "text/plain": [
       "(array([3.42461538e-02, 7.57384615e-02, 5.68384615e-02, 3.54923077e-02,\n",
       "        1.43538462e-02, 7.03846154e-03, 4.22307692e-03, 1.22307692e-03,\n",
       "        7.61538462e-04, 4.84615385e-04, 1.84615385e-04, 6.92307692e-05,\n",
       "        0.00000000e+00, 9.23076923e-05, 2.30769231e-05]),\n",
       " array([ 2.        ,  6.33333333, 10.66666667, 15.        , 19.33333333,\n",
       "        23.66666667, 28.        , 32.33333333, 36.66666667, 41.        ,\n",
       "        45.33333333, 49.66666667, 54.        , 58.33333333, 62.66666667,\n",
       "        67.        ]),\n",
       " <a list of 15 Patch objects>)"
      ]
     },
     "execution_count": 96,
     "metadata": {
     },
     "output_type": "execute_result"
    },
    {
     "data": {
      "image/png": "[encoded data removed]",
      "text/plain": [
       "<Figure size 432x288 with 1 Axes>"
      ]
     },
     "execution_count": 96,
     "metadata": {
      "image/png": {
       "height": 248,
       "width": 383
      }
     },
     "output_type": "execute_result"
    }
   ],
   "source": [
    "plt.hist(a,density=True,bins=15)"
   ]
  },
  {
   "cell_type": "markdown",
   "metadata": {
    "collapsed": false
   },
   "source": [
    "<font color='red'>Great work and I am glad to see that you added a histogram.</font>"
   ]
  },
  {
   "cell_type": "code",
   "execution_count": 0,
   "metadata": {
    "collapsed": false
   },
   "outputs": [
   ],
   "source": [
   ]
  }
 ],
 "metadata": {
  "kernelspec": {
   "display_name": "Python 3 (system-wide)",
   "language": "python",
   "metadata": {
    "cocalc": {
     "description": "Python 3 programming language",
     "priority": 100,
     "url": "https://www.python.org/"
    }
   },
   "name": "python3"
  },
  "language_info": {
   "codemirror_mode": {
    "name": "ipython",
    "version": 3
   },
   "file_extension": ".py",
   "mimetype": "text/x-python",
   "name": "python",
   "nbconvert_exporter": "python",
   "pygments_lexer": "ipython3",
   "version": "3.6.9"
  }
 },
 "nbformat": 4,
 "nbformat_minor": 0
}