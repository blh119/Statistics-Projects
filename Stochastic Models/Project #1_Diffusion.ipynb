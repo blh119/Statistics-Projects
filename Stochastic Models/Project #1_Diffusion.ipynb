{
 "cells": [
  {
   "cell_type": "markdown",
   "metadata": {
    "collapsed": false
   },
   "source": [
    "Question:<br/>\n",
    "\n",
    "A chemical spill has contaminated the ground water near a municipal well.  One year after thespill, the contaminant plume is 500 meters downstream of the spill, with a width of 200 meters. The concentration at the center of the plume is 3.6 parts per million.<br/>\n",
    "\n",
    "1.  How long until the maximum concentration reaches the municipal well located 1,800 meters downstream?  What will the concentration be?<br/>\n",
    "\n",
    "2.  When will the concentration at the municipal well fall below a safe level of 0.001 parts permillion?<br/>"
   ]
  },
  {
   "cell_type": "markdown",
   "metadata": {
    "collapsed": false
   },
   "source": [
    "Variables:<br/>\n",
    "    \n",
    "t = Time since release of pollutant (yrs)<br/>\n",
    "u = Distance traveled by plume center (km)<br/>\n",
    "x = Distance between plume center and well (km)<br/>\n",
    "s = Plume spread at time t (km)<br/>\n",
    "P = Pollution concentration at well (well safe level)<br/>\n",
    "\n",
    "Assumptions:<br/>\n",
    "\n",
    "u = 0.5*t km<br/>\n",
    "x =1.8 km - u<br/>\n",
    "Peak concentration, P = 3.6 ppt when t = 1 year<br/>\n",
    "Plume spread is s = 200 meters at t = 1 year <br/>\n",
    "Plume is moving at a rate of 500 meters per year<br/>\n",
    "t > 0\n",
    "\n",
    "Objective:<br/>\n",
    "\n",
    "Determine the time at which the max concentration is at the well<br/>\n",
    "Determine the when the concentration at the well is at a safe level.\n"
   ]
  },
  {
   "cell_type": "markdown",
   "metadata": {
    "collapsed": false
   },
   "source": [
    "We can find the concentration of the plum as a function of distance and time with the equation:<br/>\n",
    "\n",
    "\n",
    "$$C_(x,t) = \\frac{1}{\\sqrt(2\\pi*Dt)}*e^\\frac{-x^2}{2Dt}$$"
   ]
  },
  {
   "cell_type": "markdown",
   "metadata": {
    "collapsed": false
   },
   "source": [
    "Using the diffusion model, we can represent the contaminant plume at time t = 1 as the normal density with spread or mean of 0.2 kilometers and the stantard deviation of σ = 0.05, so that u ± 2σ contains abour 95 percent of the pollutant. We assume that s = 4σ<br/>\n",
    "\n",
    "Where: $$D = σ^2$$<br/>\n",
    "$$D = 0.0025$$<br/>\n",
    "\n",
    "This means that:<br/>\n",
    "\n",
    "$$2D = 0.005$$<br/>\n",
    "$$C_(x,t) = \\frac{1}{\\sqrt((.005)\\pi*t)}*e^\\frac{(-x^2)}{((.005)t)}$$<br/>\n",
    "\n",
    "For the relative concertration of the plum center mass at any instantce of t<br/>\n",
    "\n",
    "Next we have to note that the polution concentration is proportational to C(x,t).<br/>\n",
    "Which basically means we have to multiply the initial pollution by the concentration to get P:<br/>\n",
    "\n",
    "$$P = Po*C$$<br/>\n",
    "\n",
    "To get Po we have to set P = 3.6, t = 1 and x = 0:<br/>\n",
    "\n",
    "$$3.6 = P0*\\frac{1}{sqrt(.005*\\pi))}$$<br/>\n",
    "\n",
    "$$P0 = 3.6*sqrt(.005*pi)$$<br/>\n",
    "\n",
    "Now lets model the equation:<br/>\n",
    "\n",
    "We can write this function as a function of t<br/>\n",
    "\n",
    "u = .5*t<br/>\n",
    "x = 1.8 - u<br/>\n",
    "\n",
    "We are now ready to model the problem:<br/>"
   ]
  },
  {
   "cell_type": "code",
   "execution_count": 1,
   "metadata": {
    "collapsed": false
   },
   "outputs": [
    {
     "data": {
      "text/html": [
       "<html><script type=\"math/tex; mode=display\">\\newcommand{\\Bold}[1]{\\mathbf{#1}}t \\ {\\mapsto}\\ \\frac{3.60000000000000 \\, \\sqrt{\\pi} e^{\\left(-\\frac{200.000000000000 \\, {\\left(-0.500000000000000 \\, t + 1.80000000000000\\right)}^{2}}{t}\\right)}}{\\sqrt{\\pi t}}</script></html>"
      ],
      "text/plain": [
       "t |--> 3.60000000000000*sqrt(pi)*e^(-200.000000000000*(-0.500000000000000*t + 1.80000000000000)^2/t)/sqrt(pi*t)"
      ]
     },
     "execution_count": 1,
     "metadata": {
     },
     "output_type": "execute_result"
    }
   ],
   "source": [
    "t = var('t')\n",
    "u = .5*t\n",
    "x = 1.8 - u\n",
    "P0 = 3.6*sqrt(.005*pi)\n",
    "C(t) = (1/sqrt((.005)*pi*t))*e^(-(x**2)/((.005)*t))\n",
    "P(t) = P0*C(t)\n",
    "show(P)"
   ]
  },
  {
   "cell_type": "markdown",
   "metadata": {
    "collapsed": false
   },
   "source": [
    "Problem 1"
   ]
  },
  {
   "cell_type": "code",
   "execution_count": 2,
   "metadata": {
    "collapsed": false
   },
   "outputs": [
    {
     "data": {
      "image/png": "[encoded data removed]",
      "text/plain": [
       "Graphics object consisting of 1 graphics primitive"
      ]
     },
     "execution_count": 2,
     "metadata": {
     },
     "output_type": "execute_result"
    }
   ],
   "source": [
    "#Lets see the graph of P(t) vs t in years\n",
    "plot(P(t),(t,0,6))\n",
    "#Looks like about 3.75 years before the max but lets make sure"
   ]
  },
  {
   "cell_type": "code",
   "execution_count": 3,
   "metadata": {
    "collapsed": false
   },
   "outputs": [
    {
     "data": {
      "text/plain": [
       "[t == -1/200*sqrt(518401) - 1/200, t == 1/200*sqrt(518401) - 1/200, t == 0]"
      ]
     },
     "execution_count": 3,
     "metadata": {
     },
     "output_type": "execute_result"
    }
   ],
   "source": [
    "solve(diff(P(t),t)==0,t)"
   ]
  },
  {
   "cell_type": "markdown",
   "metadata": {
    "collapsed": false
   },
   "source": [
    "We have three critical points...we are going to take 1/200*sqrt(518401)\n",
    "Since t > 0"
   ]
  },
  {
   "cell_type": "code",
   "execution_count": 4,
   "metadata": {
    "collapsed": false
   },
   "outputs": [
    {
     "data": {
      "text/plain": [
       "3.60000347222055"
      ]
     },
     "execution_count": 4,
     "metadata": {
     },
     "output_type": "execute_result"
    }
   ],
   "source": [
    "n(1/200*sqrt(518401))\n",
    "#about 3.6 years before max concentration"
   ]
  },
  {
   "cell_type": "code",
   "execution_count": 5,
   "metadata": {
    "collapsed": false
   },
   "outputs": [
    {
     "data": {
      "text/plain": [
       "1.89736568077352"
      ]
     },
     "execution_count": 5,
     "metadata": {
     },
     "output_type": "execute_result"
    }
   ],
   "source": [
    "P(3.60000347222055)\n",
    "#About 1.9 parts per billion is the max concentration of the pollutant"
   ]
  },
  {
   "cell_type": "markdown",
   "metadata": {
    "collapsed": false
   },
   "source": [
    "The time of maximum concentration in the well: 3.6 years<br/>\n",
    "The highest concentration level in the well: 1.9 parts per billion<br/>\n",
    "\n",
    "Problem 2):<br/>\n",
    "\n",
    "Now we have to find the roots of the equation P(t) - 0.001 = 0<br/>\n",
    "This will give us the time in which we are able to safely use the well again."
   ]
  },
  {
   "cell_type": "code",
   "execution_count": 6,
   "metadata": {
    "collapsed": false
   },
   "outputs": [
    {
     "data": {
      "text/plain": [
       "[]"
      ]
     },
     "execution_count": 6,
     "metadata": {
     },
     "output_type": "execute_result"
    }
   ],
   "source": [
    "solve(P(t) - 0.001 ==0 ,t)"
   ]
  },
  {
   "cell_type": "markdown",
   "metadata": {
    "collapsed": false
   },
   "source": [
    "We cannot find the answer by solving algebraically<br/>\n",
    "Lets try the find root method<br/>\n",
    "We will find it over the interval [2,3] and [4,5]<br/>\n",
    "Those seem to be the times in which the water becomes unsafe and then safe to drink"
   ]
  },
  {
   "cell_type": "code",
   "execution_count": 7,
   "metadata": {
    "collapsed": false
   },
   "outputs": [
    {
     "data": {
      "text/plain": [
       "2.9303644724949205"
      ]
     },
     "execution_count": 7,
     "metadata": {
     },
     "output_type": "execute_result"
    }
   ],
   "source": [
    "find_root(P(t)-.001,2,3)"
   ]
  },
  {
   "cell_type": "code",
   "execution_count": 8,
   "metadata": {
    "collapsed": false
   },
   "outputs": [
    {
     "data": {
      "text/plain": [
       "3.81600208017665"
      ]
     },
     "execution_count": 8,
     "metadata": {
     },
     "output_type": "execute_result"
    }
   ],
   "source": [
    "find_root(P(t)- 1,3,4)"
   ]
  },
  {
   "cell_type": "code",
   "execution_count": 9,
   "metadata": {
    "collapsed": false
   },
   "outputs": [
   ],
   "source": [
    "f(x) = x^2\n",
    "g(x) = 2*x"
   ]
  },
  {
   "cell_type": "code",
   "execution_count": 0,
   "metadata": {
    "collapsed": false
   },
   "outputs": [
   ],
   "source": [
   ]
  },
  {
   "cell_type": "code",
   "execution_count": 0,
   "metadata": {
    "collapsed": false
   },
   "outputs": [
   ],
   "source": [
   ]
  },
  {
   "cell_type": "code",
   "execution_count": 0,
   "metadata": {
    "collapsed": false
   },
   "outputs": [
   ],
   "source": [
   ]
  },
  {
   "cell_type": "markdown",
   "metadata": {
    "collapsed": false
   },
   "source": [
    "People should stop drinking from the well at: t = 3 years<br/>\n",
    "People can begin drinking from the well again at : t = 4.4 years"
   ]
  }
 ],
 "metadata": {
  "kernelspec": {
   "display_name": "SageMath (stable)",
   "language": "sagemath",
   "metadata": {
    "cocalc": {
     "description": "Open-source mathematical software system",
     "priority": 10,
     "url": "https://www.sagemath.org/"
    }
   },
   "name": "sagemath"
  },
  "language_info": {
   "codemirror_mode": {
    "name": "ipython",
    "version": 2
   },
   "file_extension": ".py",
   "mimetype": "text/x-python",
   "name": "python",
   "nbconvert_exporter": "python",
   "pygments_lexer": "ipython2",
   "version": "2.7.15"
  }
 },
 "nbformat": 4,
 "nbformat_minor": 0
}