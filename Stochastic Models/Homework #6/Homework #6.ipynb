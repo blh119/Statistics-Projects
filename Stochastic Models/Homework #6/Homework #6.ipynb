{
 "cells": [
  {
   "cell_type": "code",
   "execution_count": 0,
   "metadata": {
    "collapsed": false
   },
   "outputs": [
   ],
   "source": [
    "Brian Holliday\n",
    "Professor Thiel \n",
    "Stochastic Models\n",
    "26 November 2019"
   ]
  },
  {
   "cell_type": "code",
   "execution_count": 2,
   "metadata": {
    "collapsed": false
   },
   "outputs": [
   ],
   "source": [
    "import numpy as np"
   ]
  },
  {
   "cell_type": "markdown",
   "metadata": {
    "collapsed": false
   },
   "source": [
    "Problem 1:<br/><br/>\n",
    "    A simple game of chance is played by flipping a coin. The house flips a coin and the player calls it in the air. If the coin coin lands the way the player calls it, the house pays the player 1 dollar, otherwise, the player pays the house 1 dollar. The player begins with 10 dollars.<br/><br/>\n",
    "    (a): What are the odds that the player will go broke before he doubles his money?<br/>\n",
    "    (b): How long on average does the game describe in part (a) last?<br/>\n",
    "    (c): How much on average does the player have after 25 coin flips?"
   ]
  },
  {
   "cell_type": "markdown",
   "metadata": {
    "collapsed": false
   },
   "source": [
    "Problem 1a"
   ]
  },
  {
   "cell_type": "code",
   "execution_count": 4,
   "metadata": {
    "collapsed": false
   },
   "outputs": [
   ],
   "source": [
    "def coin_game():\n",
    "    player = 10\n",
    "    p_choice = [0,1]\n",
    "    while player > 0:\n",
    "        pick = np.random.randint(2, size = 1)\n",
    "        coin = np.random.randint(2, size = 1)\n",
    "        if coin[0] == p_choice[pick[0]]:\n",
    "            player = player + 1\n",
    "        else:\n",
    "            player = player - 1\n",
    "        if player == 20:\n",
    "            return 1\n",
    "        if player == 0:\n",
    "            return 0"
   ]
  },
  {
   "cell_type": "code",
   "execution_count": 5,
   "metadata": {
    "collapsed": false
   },
   "outputs": [
    {
     "data": {
      "text/plain": [
       "[0.514, 0.494, 0.496, 0.492, 0.495, 0.51, 0.492, 0.499, 0.51, 0.504]"
      ]
     },
     "execution_count": 5,
     "metadata": {
     },
     "output_type": "execute_result"
    }
   ],
   "source": [
    "[sum([coin_game() for i in range(1000)])/1000 for i in range (10)]"
   ]
  },
  {
   "cell_type": "markdown",
   "metadata": {
    "collapsed": false
   },
   "source": [
    "It appears that with a fair coin you should expect to win the game about half the time. "
   ]
  },
  {
   "cell_type": "markdown",
   "metadata": {
    "collapsed": false
   },
   "source": [
    "Problem 1b"
   ]
  },
  {
   "cell_type": "code",
   "execution_count": 8,
   "metadata": {
    "collapsed": false
   },
   "outputs": [
   ],
   "source": [
    "def coin_game():\n",
    "    player = 10\n",
    "    p_choice = [0,1]\n",
    "    turns = 0\n",
    "    while player > 0:\n",
    "        pick = np.random.randint(2, size = 1)\n",
    "        coin = np.random.randint(2, size = 1)\n",
    "        if coin[0] == p_choice[pick[0]]:\n",
    "            player = player + 1\n",
    "        else:\n",
    "            player = player - 1\n",
    "        turns = turns + 1 \n",
    "        if player == 20:\n",
    "            return turns\n",
    "        if player == 0:\n",
    "            return turns"
   ]
  },
  {
   "cell_type": "code",
   "execution_count": 9,
   "metadata": {
    "collapsed": false
   },
   "outputs": [
    {
     "data": {
      "text/plain": [
       "[98.502,\n",
       " 99.118,\n",
       " 96.368,\n",
       " 101.37,\n",
       " 97.586,\n",
       " 103.352,\n",
       " 105.734,\n",
       " 96.838,\n",
       " 99.698,\n",
       " 100.77]"
      ]
     },
     "execution_count": 9,
     "metadata": {
     },
     "output_type": "execute_result"
    }
   ],
   "source": [
    "[sum([coin_game() for i in range (1000)])/1000 for i in range (10)]"
   ]
  },
  {
   "cell_type": "markdown",
   "metadata": {
    "collapsed": false
   },
   "source": [
    "It appears that this game has a average of about 100 turns"
   ]
  },
  {
   "cell_type": "markdown",
   "metadata": {
    "collapsed": false
   },
   "source": [
    "Problem 1c"
   ]
  },
  {
   "cell_type": "code",
   "execution_count": 10,
   "metadata": {
    "collapsed": false
   },
   "outputs": [
   ],
   "source": [
    "def coin_game():\n",
    "    player = 10\n",
    "    p_choice = [0,1]\n",
    "    turns = 25\n",
    "    for i in range(turns):\n",
    "        pick = np.random.randint(2, size = 1)\n",
    "        coin = np.random.randint(2, size = 1)\n",
    "        if coin[0] == p_choice[pick[0]]:\n",
    "            player = player + 1\n",
    "        else:\n",
    "            player = player - 1\n",
    "    return player"
   ]
  },
  {
   "cell_type": "code",
   "execution_count": 11,
   "metadata": {
    "collapsed": false
   },
   "outputs": [
    {
     "data": {
      "text/plain": [
       "[9.908, 10.128, 9.89, 10.052, 10.264, 10.022, 10.24, 10.252, 10.072, 10.114]"
      ]
     },
     "execution_count": 11,
     "metadata": {
     },
     "output_type": "execute_result"
    }
   ],
   "source": [
    "[sum([coin_game() for i in range (1000)])/1000 for i in range (10)]"
   ]
  },
  {
   "cell_type": "markdown",
   "metadata": {
    "collapsed": false
   },
   "source": [
    "After 25 coin flips it appears that in most cases you will be back at 10 dollars"
   ]
  },
  {
   "cell_type": "markdown",
   "metadata": {
    "collapsed": false
   },
   "source": [
    "Problem 2:<br/><br/>\n",
    "\n",
    "On a roll of two dice, a total of seven occurs with probability of 1/6\n",
    "    (a): In 100 rolls of the dice, what is the probability that five consecutive rolls of seven will occur?<br/>\n",
    "    (b): What is the average number of rolls until a roll of seven occurs?"
   ]
  },
  {
   "cell_type": "markdown",
   "metadata": {
    "collapsed": false
   },
   "source": [
    "Problem 2a"
   ]
  },
  {
   "cell_type": "code",
   "execution_count": 161,
   "metadata": {
    "collapsed": false
   },
   "outputs": [
   ],
   "source": [
    "def two_dice():\n",
    "    dice1 = np.random.randint(1, high = 7, size = 1)\n",
    "    dice2 = np.random.randint(1, high = 7, size = 1)\n",
    "    return dice1[0] + dice2[0]"
   ]
  },
  {
   "cell_type": "code",
   "execution_count": 162,
   "metadata": {
    "collapsed": false
   },
   "outputs": [
   ],
   "source": [
    "def count():\n",
    "    count = 0\n",
    "    for i in range(100):\n",
    "        a = [two_dice() for i in range(100)]\n",
    "        for j in range(95):\n",
    "            if a[j] == 7 and a[j + 1] == 7 and a[j + 2] == 7 and a[j + 3] == 7 and a[j + 4] == 7:\n",
    "                count = count + 1\n",
    "    return count/100"
   ]
  },
  {
   "cell_type": "code",
   "execution_count": 163,
   "metadata": {
    "collapsed": false
   },
   "outputs": [
    {
     "data": {
      "text/plain": [
       "0.012100000000000007"
      ]
     },
     "execution_count": 163,
     "metadata": {
     },
     "output_type": "execute_result"
    }
   ],
   "source": [
    "sum([count() for i in range (100)])/100"
   ]
  },
  {
   "cell_type": "markdown",
   "metadata": {
    "collapsed": false
   },
   "source": [
    "There is a probability of about 1.21 percent that if you roll two dice 100 times you will get a run of 5 straight sevens "
   ]
  },
  {
   "cell_type": "markdown",
   "metadata": {
    "collapsed": false
   },
   "source": [
    "Problem 2b"
   ]
  },
  {
   "cell_type": "code",
   "execution_count": 3,
   "metadata": {
    "collapsed": false
   },
   "outputs": [
   ],
   "source": [
    "def two_dice():\n",
    "    turns = 0\n",
    "    for i in range(1000000):\n",
    "        dice = np.random.randint(1, high = 7, size = 1) + np.random.randint(1, high = 7, size = 1)\n",
    "        turns = turns + 1 \n",
    "        if dice == 7:\n",
    "            return turns"
   ]
  },
  {
   "cell_type": "code",
   "execution_count": 4,
   "metadata": {
    "collapsed": false
   },
   "outputs": [
    {
     "data": {
      "text/plain": [
       "5.9782"
      ]
     },
     "execution_count": 4,
     "metadata": {
     },
     "output_type": "execute_result"
    }
   ],
   "source": [
    "sum([two_dice() for i in range (10000)])/10000"
   ]
  },
  {
   "cell_type": "markdown",
   "metadata": {
    "collapsed": false
   },
   "source": [
    "It takes about 6 turns to get a two dice roll of 7"
   ]
  }
 ],
 "metadata": {
  "kernelspec": {
   "display_name": "Python 3 (system-wide)",
   "language": "python",
   "metadata": {
    "cocalc": {
     "description": "Python 3 programming language",
     "priority": 100,
     "url": "https://www.python.org/"
    }
   },
   "name": "python3"
  },
  "language_info": {
   "codemirror_mode": {
    "name": "ipython",
    "version": 3
   },
   "file_extension": ".py",
   "mimetype": "text/x-python",
   "name": "python",
   "nbconvert_exporter": "python",
   "pygments_lexer": "ipython3",
   "version": "3.6.8"
  }
 },
 "nbformat": 4,
 "nbformat_minor": 0
}